{
 "cells": [
  {
   "cell_type": "markdown",
   "metadata": {
    "colab_type": "text",
    "id": "Dnubs-Nnb3cw"
   },
   "source": [
    "# Assignment 6: Apply NB"
   ]
  },
  {
   "cell_type": "markdown",
   "metadata": {
    "colab_type": "text",
    "id": "12krXa2pb3c1"
   },
   "source": [
    "<ol>\n",
    "    <li><strong>Apply Multinomial NB on these feature sets</strong>\n",
    "        <ul>\n",
    "            <li><font color='red'>Set 1</font>: categorical, numerical features + preprocessed_eassay (BOW)</li>\n",
    "            <li><font color='red'>Set 2</font>: categorical, numerical features + preprocessed_eassay (TFIDF)</li>\n",
    "        </ul>\n",
    "    </li>\n",
    "    <li><strong>The hyper paramter tuning(find best alpha:smoothing parameter)</strong>\n",
    "        <ul>\n",
    "    <li>Find the best hyper parameter which will give the maximum <a href='https://www.appliedaicourse.com/course/applied-ai-course-online/lessons/receiver-operating-characteristic-curve-roc-curve-and-auc-1/'>AUC</a> value</li>\n",
    "    <li>find the best hyper paramter using k-fold cross validation(use GridsearchCV or RandomsearchCV)/simple cross validation data (write for loop to iterate over hyper parameter values)</li>\n",
    "    <li></li>\n",
    "        </ul>\n",
    "    </li>\n",
    "    <li>\n",
    "    <strong>Representation of results</strong>\n",
    "        <ul>\n",
    "    <li>You need to plot the performance of model both on train data and cross validation data for each hyper parameter, like shown in the figure\n",
    "    <img src='https://i.imgur.com/hUv6aEy.jpg' width=300px></li>\n",
    "    <li>Once after you found the best hyper parameter, you need to train your model with it, and find the AUC on test data and plot the ROC curve on both train and test.\n",
    "    <img src='https://i.imgur.com/wMQDTFe.jpg' width=300px></li>\n",
    "    <li>Along with plotting ROC curve, you need to print the <a href='https://www.appliedaicourse.com/course/applied-ai-course-online/lessons/confusion-matrix-tpr-fpr-fnr-tnr-1/'>confusion matrix</a> with predicted and original labels of test data points\n",
    "    <img src='https://i.imgur.com/IdN5Ctv.png' width=300px></li>\n",
    "        </ul>\n",
    "    </li>\n",
    "    <li>\n",
    "fine the top 20 features from either from feature <font color='red'>Set 1</font> or feature <font color='red'>Set 2</font> using absolute values of `feature_log_prob_ ` parameter of `MultinomialNB` \n",
    "(https://scikit-learn.org/stable/modules/generated/sklearn.naive_bayes.MultinomialNB.html) and print their corresponding feature names\n",
    "    </li>\n",
    "    <li>You need to summarize the results at the end of the notebook, summarize it in the table format\n",
    "        <img src='http://i.imgur.com/YVpIGGE.jpg' width=400px>\n",
    "    </li>\n",
    "</ol>"
   ]
  },
  {
   "cell_type": "markdown",
   "metadata": {
    "colab_type": "text",
    "id": "inzYCIaib3c3"
   },
   "source": [
    "<h1>2. Naive Bayes </h1>"
   ]
  },
  {
   "cell_type": "markdown",
   "metadata": {
    "colab_type": "text",
    "id": "FYqCIxzFb3c5"
   },
   "source": [
    "## 1.1 Loading Data"
   ]
  },
  {
   "cell_type": "code",
   "execution_count": 1,
   "metadata": {},
   "outputs": [],
   "source": [
    "%matplotlib inline\n",
    "import matplotlib.pyplot as plt\n",
    "import numpy as np"
   ]
  },
  {
   "cell_type": "code",
   "execution_count": 2,
   "metadata": {
    "colab": {},
    "colab_type": "code",
    "id": "dA1jknyqb3c_"
   },
   "outputs": [
    {
     "name": "stderr",
     "output_type": "stream",
     "text": [
      "C:\\Users\\Nikhil\\Anaconda3\\lib\\site-packages\\IPython\\core\\interactiveshell.py:2785: DtypeWarning: Columns (11,12) have mixed types. Specify dtype option on import or set low_memory=False.\n",
      "  interactivity=interactivity, compiler=compiler, result=result)\n"
     ]
    }
   ],
   "source": [
    "import pandas as pd\n",
    "data = pd.read_csv('C:\\\\Users\\\\Nikhil\\\\Desktop\\\\Personal\\\\aai\\\\assignments\\\\Data\\\\preprocessed_data.csv')\n",
    "project = pd.read_csv('C:/Users/Nikhil/Desktop/Personal/aai/assignments/Data/resources.csv')\n",
    "price_data = project.groupby('id').agg({'price':'sum', 'quantity':'sum'}).reset_index()\n",
    "data = pd.merge(data, price_data, on='id', how='left')"
   ]
  },
  {
   "cell_type": "code",
   "execution_count": 3,
   "metadata": {},
   "outputs": [
    {
     "data": {
      "text/plain": [
       "Index(['Unnamed: 0', 'Unnamed: 0.1', 'id', 'teacher_id', 'teacher_prefix',\n",
       "       'school_state', 'Date', 'project_grade_category', 'project_title',\n",
       "       'project_essay_1', 'project_essay_2', 'project_essay_3',\n",
       "       'project_essay_4', 'project_resource_summary',\n",
       "       'teacher_number_of_previously_posted_projects', 'project_is_approved',\n",
       "       'clean_categories', 'clean_subcategories', 'essay',\n",
       "       'preprocessed_essay', 'Numerical_Presence', 'price', 'quantity'],\n",
       "      dtype='object')"
      ]
     },
     "execution_count": 3,
     "metadata": {},
     "output_type": "execute_result"
    }
   ],
   "source": [
    "data.columns"
   ]
  },
  {
   "cell_type": "markdown",
   "metadata": {
    "colab_type": "text",
    "id": "WtVV13Fyb3dH"
   },
   "source": [
    "<h2>1.2 Splitting data into Train and cross validation(or test): Stratified Sampling</h2>"
   ]
  },
  {
   "cell_type": "code",
   "execution_count": 4,
   "metadata": {
    "colab": {},
    "colab_type": "code",
    "id": "i-PyprDNb3dI"
   },
   "outputs": [],
   "source": [
    "# Importing req library\n",
    "from sklearn.model_selection import train_test_split\n",
    "\n",
    "# Considering only 10000 rows from the data\n",
    "data = data.sample(10000, random_state=2)"
   ]
  },
  {
   "cell_type": "code",
   "execution_count": 5,
   "metadata": {},
   "outputs": [
    {
     "name": "stdout",
     "output_type": "stream",
     "text": [
      "(1526, 23) (8474, 23)\n"
     ]
    }
   ],
   "source": [
    "class0 = data[data['project_is_approved']==0]\n",
    "class1 = data[data['project_is_approved']==1]\n",
    "print(class0.shape,class1.shape)"
   ]
  },
  {
   "cell_type": "markdown",
   "metadata": {},
   "source": [
    "<b>Observation: Class 1 has more data than Class 0. So, in order to balance them we are performing up sampling</b>"
   ]
  },
  {
   "cell_type": "code",
   "execution_count": 6,
   "metadata": {},
   "outputs": [
    {
     "data": {
      "text/plain": [
       "1    8474\n",
       "0    8474\n",
       "Name: project_is_approved, dtype: int64"
      ]
     },
     "execution_count": 6,
     "metadata": {},
     "output_type": "execute_result"
    }
   ],
   "source": [
    "# https://elitedatascience.com/imbalanced-classes\n",
    "# Performing Up sampling\n",
    "from sklearn.utils import resample\n",
    "class0_upsampled = resample(class0,\n",
    "                            replace=True,     # sample with replacement\n",
    "                            n_samples=8474,    # to match majority class\n",
    "                            random_state=123) # reproducible results\n",
    "data = pd.concat([class1, class0_upsampled])\n",
    "data.project_is_approved.value_counts()"
   ]
  },
  {
   "cell_type": "code",
   "execution_count": 7,
   "metadata": {},
   "outputs": [
    {
     "name": "stdout",
     "output_type": "stream",
     "text": [
      "(13558, 20)\n",
      "(13558,)\n",
      "(3390, 20)\n",
      "(3390,)\n"
     ]
    }
   ],
   "source": [
    "# Separating input and output variables\n",
    "X = data.drop(['Unnamed: 0','Unnamed: 0.1','project_is_approved'], axis=1)\n",
    "y = data.project_is_approved\n",
    "\n",
    "# Splitting the data\n",
    "X_train,X_test,y_train,y_test = train_test_split(X,y,test_size = 0.2,stratify = y)\n",
    "\n",
    "# Printing the shapes\n",
    "print(X_train.shape)\n",
    "print(y_train.shape)\n",
    "print(X_test.shape)\n",
    "print(y_test.shape)"
   ]
  },
  {
   "cell_type": "markdown",
   "metadata": {
    "colab_type": "text",
    "id": "EnZwVNULb3dO"
   },
   "source": [
    "<h2>1.3 Make Data Model Ready: encoding eassay, and project_title</h2>"
   ]
  },
  {
   "cell_type": "markdown",
   "metadata": {
    "colab": {},
    "colab_type": "code",
    "id": "-SczZKiab3dR"
   },
   "source": [
    "### BOW"
   ]
  },
  {
   "cell_type": "code",
   "execution_count": 8,
   "metadata": {},
   "outputs": [
    {
     "name": "stdout",
     "output_type": "stream",
     "text": [
      "After vectorizations\n",
      "(13558, 5000) (13558,)\n",
      "(3390, 5000) (3390,)\n",
      "====================================================================================================\n",
      "After vectorizations\n",
      "(13558, 1638) (13558,)\n",
      "(3390, 1638) (3390,)\n",
      "====================================================================================================\n",
      "After vectorizations\n",
      "(13558, 5000) (13558,)\n",
      "(3390, 5000) (3390,)\n",
      "====================================================================================================\n"
     ]
    }
   ],
   "source": [
    "from sklearn.feature_extraction.text import CountVectorizer\n",
    "vectorizer = CountVectorizer()\n",
    "# For essays\n",
    "vectorizer = CountVectorizer(min_df=10,ngram_range=(1,4), max_features=5000)\n",
    "vectorizer.fit(X_train['essay'].values) # fit has to happen only on train data\n",
    "\n",
    "# we use the fitted CountVectorizer to convert the text to vector\n",
    "X_train_essay_bow = vectorizer.transform(X_train['essay'].values)\n",
    "X_test_essay_bow = vectorizer.transform(X_test['essay'].values)\n",
    "\n",
    "print(\"After vectorizations\")\n",
    "print(X_train_essay_bow.shape, y_train.shape)\n",
    "print(X_test_essay_bow.shape, y_test.shape)\n",
    "bow_essay_fea = vectorizer.get_feature_names()\n",
    "print(\"=\"*100)\n",
    "\n",
    "# For project_title\n",
    "vectorizer.fit(X_train['project_title'].values) # fit has to happen only on train data\n",
    "\n",
    "# we use the fitted CountVectorizer to convert the text to vector\n",
    "X_train_title_bow = vectorizer.transform(X_train['project_title'].values)\n",
    "X_test_title_bow = vectorizer.transform(X_test['project_title'].values)\n",
    "\n",
    "print(\"After vectorizations\")\n",
    "print(X_train_title_bow.shape, y_train.shape)\n",
    "print(X_test_title_bow.shape, y_test.shape)\n",
    "bow_title_fea = vectorizer.get_feature_names()\n",
    "print(\"=\"*100)\n",
    "\n",
    "# For project_resource_summary\n",
    "vectorizer.fit(X_train['project_resource_summary'].values)\n",
    "\n",
    "# we use the fitted CountVectorizer to convert the text to vector\n",
    "X_train_summ_bow = vectorizer.transform(X_train['project_resource_summary'].values)\n",
    "X_test_summ_bow = vectorizer.transform(X_test['project_resource_summary'].values)\n",
    "\n",
    "print(\"After vectorizations\")\n",
    "print(X_train_summ_bow.shape, y_train.shape)\n",
    "print(X_test_summ_bow.shape, y_test.shape)\n",
    "bow_summ_fea = vectorizer.get_feature_names()\n",
    "print(\"=\"*100)"
   ]
  },
  {
   "cell_type": "markdown",
   "metadata": {},
   "source": [
    "### TFiDF"
   ]
  },
  {
   "cell_type": "code",
   "execution_count": 9,
   "metadata": {},
   "outputs": [
    {
     "name": "stdout",
     "output_type": "stream",
     "text": [
      "After vectorizations\n",
      "(13558, 5000) (13558,)\n",
      "(3390, 5000) (3390,)\n",
      "====================================================================================================\n",
      "After vectorizations\n",
      "(13558, 1638) (13558,)\n",
      "(3390, 1638) (3390,)\n",
      "====================================================================================================\n",
      "After vectorizations\n",
      "(13558, 5000) (13558,)\n",
      "(3390, 5000) (3390,)\n",
      "====================================================================================================\n"
     ]
    }
   ],
   "source": [
    "# Please write all the code with proper documentation\n",
    "from sklearn.feature_extraction.text import TfidfVectorizer\n",
    "# For essays\n",
    "vectorizer = TfidfVectorizer(min_df=10,ngram_range=(1,4), max_features=5000)\n",
    "vectorizer.fit(X_train['essay'].values) # fit has to happen only on train data\n",
    "\n",
    "# we use the fitted CountVectorizer to convert the text to vector\n",
    "X_train_essay_tfidf = vectorizer.transform(X_train['essay'].values)\n",
    "X_test_essay_tfidf = vectorizer.transform(X_test['essay'].values)\n",
    "\n",
    "print(\"After vectorizations\")\n",
    "print(X_train_essay_tfidf.shape, y_train.shape)\n",
    "print(X_test_essay_tfidf.shape, y_test.shape)\n",
    "tfidf_essay_fea = vectorizer.get_feature_names()\n",
    "print(\"=\"*100)\n",
    "\n",
    "# For project_title\n",
    "vectorizer.fit(X_train['project_title'].values) # fit has to happen only on train data\n",
    "\n",
    "# we use the fitted CountVectorizer to convert the text to vector\n",
    "X_train_title_tfidf = vectorizer.transform(X_train['project_title'].values)\n",
    "X_test_title_tfidf = vectorizer.transform(X_test['project_title'].values)\n",
    "\n",
    "print(\"After vectorizations\")\n",
    "print(X_train_title_tfidf.shape, y_train.shape)\n",
    "print(X_test_title_tfidf.shape, y_test.shape)\n",
    "tfidf_title_fea = vectorizer.get_feature_names()\n",
    "print(\"=\"*100)\n",
    "\n",
    "# For project_resource_summary\n",
    "vectorizer.fit(X_train['project_resource_summary'].values) # fit has to happen only on train data\n",
    "\n",
    "X_train_summ_tfidf = vectorizer.transform(X_train['project_resource_summary'].values)\n",
    "X_test_summ_tfidf = vectorizer.transform(X_test['project_resource_summary'].values)\n",
    "\n",
    "print(\"After vectorizations\")\n",
    "print(X_train_summ_tfidf.shape, y_train.shape)\n",
    "print(X_test_summ_tfidf.shape, y_test.shape)\n",
    "tfidf_summ_fea = vectorizer.get_feature_names()\n",
    "print(\"=\"*100)"
   ]
  },
  {
   "cell_type": "markdown",
   "metadata": {
    "colab_type": "text",
    "id": "bGy86kgHb3dX"
   },
   "source": [
    "<h2>1.4 Make Data Model Ready: encoding numerical, categorical features</h2>"
   ]
  },
  {
   "cell_type": "markdown",
   "metadata": {
    "colab": {},
    "colab_type": "code",
    "id": "EfXkofX1b3da"
   },
   "source": [
    "<h3>1.4.1 encoding categorical features: School State</h3>"
   ]
  },
  {
   "cell_type": "code",
   "execution_count": 10,
   "metadata": {},
   "outputs": [
    {
     "name": "stdout",
     "output_type": "stream",
     "text": [
      "After vectorizations\n",
      "(13558, 51) (13558,)\n",
      "(3390, 51) (3390,)\n",
      "['ak', 'al', 'ar', 'az', 'ca', 'co', 'ct', 'dc', 'de', 'fl', 'ga', 'hi', 'ia', 'id', 'il', 'in', 'ks', 'ky', 'la', 'ma', 'md', 'me', 'mi', 'mn', 'mo', 'ms', 'mt', 'nc', 'nd', 'ne', 'nh', 'nj', 'nm', 'nv', 'ny', 'oh', 'ok', 'or', 'pa', 'ri', 'sc', 'sd', 'tn', 'tx', 'ut', 'va', 'vt', 'wa', 'wi', 'wv', 'wy']\n",
      "====================================================================================================\n"
     ]
    }
   ],
   "source": [
    "vectorizer = CountVectorizer()\n",
    "vectorizer.fit(X_train['school_state'].values) # fit has to happen only on train data\n",
    "\n",
    "# we use the fitted CountVectorizer to convert the text to vector\n",
    "X_train_state_ohe = vectorizer.transform(X_train['school_state'].values)\n",
    "X_test_state_ohe = vectorizer.transform(X_test['school_state'].values)\n",
    "\n",
    "\n",
    "print(\"After vectorizations\")\n",
    "print(X_train_state_ohe.shape, y_train.shape)\n",
    "print(X_test_state_ohe.shape, y_test.shape)\n",
    "print(vectorizer.get_feature_names())\n",
    "school_features = vectorizer.get_feature_names()\n",
    "print(\"=\"*100)"
   ]
  },
  {
   "cell_type": "markdown",
   "metadata": {},
   "source": [
    "<h3>1.4.2 encoding categorical features: teacher_prefix</h3>"
   ]
  },
  {
   "cell_type": "code",
   "execution_count": 11,
   "metadata": {},
   "outputs": [
    {
     "name": "stdout",
     "output_type": "stream",
     "text": [
      "After vectorizations\n",
      "(13558, 4) (13558,)\n",
      "(3390, 4) (3390,)\n",
      "['mr', 'mrs', 'ms', 'teacher']\n",
      "====================================================================================================\n"
     ]
    }
   ],
   "source": [
    "vectorizer = CountVectorizer()\n",
    "vectorizer.fit(X_train['teacher_prefix'].values) # fit has to happen only on train data\n",
    "\n",
    "# we use the fitted CountVectorizer to convert the text to vector\n",
    "X_train_teacher_ohe = vectorizer.transform(X_train['teacher_prefix'].values)\n",
    "X_test_teacher_ohe = vectorizer.transform(X_test['teacher_prefix'].values)\n",
    "\n",
    "print(\"After vectorizations\")\n",
    "print(X_train_teacher_ohe.shape, y_train.shape)\n",
    "print(X_test_teacher_ohe.shape, y_test.shape)\n",
    "print(vectorizer.get_feature_names())\n",
    "teacher_fea = vectorizer.get_feature_names()\n",
    "print(\"=\"*100)"
   ]
  },
  {
   "cell_type": "markdown",
   "metadata": {},
   "source": [
    "<h3>1.4.3 encoding categorical features: project_grade_category</h3>"
   ]
  },
  {
   "cell_type": "code",
   "execution_count": 12,
   "metadata": {},
   "outputs": [
    {
     "name": "stdout",
     "output_type": "stream",
     "text": [
      "After vectorizations\n",
      "(13558, 4) (13558,)\n",
      "(3390, 4) (3390,)\n",
      "['grades35', 'grades68', 'grades912', 'gradesprek2']\n",
      "====================================================================================================\n"
     ]
    }
   ],
   "source": [
    "vectorizer = CountVectorizer()\n",
    "vectorizer.fit(X_train['project_grade_category'].values) # fit has to happen only on train data\n",
    "\n",
    "# we use the fitted CountVectorizer to convert the text to vector\n",
    "X_train_grade_ohe = vectorizer.transform(X_train['project_grade_category'].values)\n",
    "X_test_grade_ohe = vectorizer.transform(X_test['project_grade_category'].values)\n",
    "\n",
    "print(\"After vectorizations\")\n",
    "print(X_train_grade_ohe.shape, y_train.shape)\n",
    "print(X_test_grade_ohe.shape, y_test.shape)\n",
    "print(vectorizer.get_feature_names())\n",
    "project_grade_fea = vectorizer.get_feature_names()\n",
    "print(\"=\"*100)"
   ]
  },
  {
   "cell_type": "markdown",
   "metadata": {},
   "source": [
    "<h3>1.4.4 encoding categorical features: clean_category</h3>"
   ]
  },
  {
   "cell_type": "code",
   "execution_count": 13,
   "metadata": {},
   "outputs": [
    {
     "name": "stdout",
     "output_type": "stream",
     "text": [
      "After vectorizations\n",
      "(13558, 9) (13558,)\n",
      "(3390, 9) (3390,)\n",
      "['appliedlearning', 'care_hunger', 'health_sports', 'history_civics', 'literacy_language', 'math_science', 'music_arts', 'specialneeds', 'warmth']\n",
      "====================================================================================================\n"
     ]
    }
   ],
   "source": [
    "vectorizer = CountVectorizer()\n",
    "vectorizer.fit(X_train['clean_categories'].values) # fit has to happen only on train data\n",
    "\n",
    "# we use the fitted CountVectorizer to convert the text to vector\n",
    "X_train_ccat_ohe = vectorizer.transform(X_train['clean_categories'].values)\n",
    "X_test_ccat_ohe = vectorizer.transform(X_test['clean_categories'].values)\n",
    "\n",
    "print(\"After vectorizations\")\n",
    "print(X_train_ccat_ohe.shape, y_train.shape)\n",
    "print(X_test_ccat_ohe.shape, y_test.shape)\n",
    "print(vectorizer.get_feature_names())\n",
    "clean_cat_fea = vectorizer.get_feature_names()\n",
    "print(\"=\"*100)"
   ]
  },
  {
   "cell_type": "markdown",
   "metadata": {},
   "source": [
    "<h3>1.4.5 encoding categorical features: clean_sub_category</h3>"
   ]
  },
  {
   "cell_type": "code",
   "execution_count": 14,
   "metadata": {},
   "outputs": [
    {
     "name": "stdout",
     "output_type": "stream",
     "text": [
      "After vectorizations\n",
      "(13558, 30) (13558,)\n",
      "(3390, 30) (3390,)\n",
      "['appliedsciences', 'care_hunger', 'charactereducation', 'civics_government', 'college_careerprep', 'communityservice', 'earlydevelopment', 'economics', 'environmentalscience', 'esl', 'extracurricular', 'financialliteracy', 'foreignlanguages', 'gym_fitness', 'health_lifescience', 'health_wellness', 'history_geography', 'literacy', 'literature_writing', 'mathematics', 'music', 'nutritioneducation', 'other', 'parentinvolvement', 'performingarts', 'socialsciences', 'specialneeds', 'teamsports', 'visualarts', 'warmth']\n",
      "====================================================================================================\n"
     ]
    }
   ],
   "source": [
    "vectorizer = CountVectorizer()\n",
    "vectorizer.fit(X_train['clean_subcategories'].values) # fit has to happen only on train data\n",
    "\n",
    "# we use the fitted CountVectorizer to convert the text to vector\n",
    "X_train_cscat_ohe = vectorizer.transform(X_train['clean_subcategories'].values)\n",
    "X_test_cscat_ohe = vectorizer.transform(X_test['clean_subcategories'].values)\n",
    "\n",
    "print(\"After vectorizations\")\n",
    "print(X_train_cscat_ohe.shape, y_train.shape)\n",
    "print(X_test_cscat_ohe.shape, y_test.shape)\n",
    "print(vectorizer.get_feature_names())\n",
    "clean_sub = vectorizer.get_feature_names()\n",
    "print(\"=\"*100)"
   ]
  },
  {
   "cell_type": "markdown",
   "metadata": {},
   "source": [
    "<h3>1.4.6 encoding categorical features: price</h3>"
   ]
  },
  {
   "cell_type": "code",
   "execution_count": 15,
   "metadata": {},
   "outputs": [
    {
     "name": "stdout",
     "output_type": "stream",
     "text": [
      "After vectorizations\n",
      "(13558, 1) (13558,)\n",
      "(3390, 1) (3390,)\n",
      "====================================================================================================\n"
     ]
    }
   ],
   "source": [
    "from sklearn.preprocessing import Normalizer\n",
    "normalizer = Normalizer()\n",
    "# normalizer.fit(X_train['price'].values)\n",
    "# this will rise an error Expected 2D array, got 1D array instead: \n",
    "# array=[105.22 215.96  96.01 ... 368.98  80.53 709.67].\n",
    "# Reshape your data either using \n",
    "# array.reshape(-1, 1) if your data has a single feature \n",
    "# array.reshape(1, -1)  if it contains a single sample.\n",
    "normalizer.fit(X_train['price'].values.reshape(1,-1))\n",
    "\n",
    "X_train_price_norm = normalizer.transform(X_train['price'].values.reshape(1,-1))\n",
    "X_test_price_norm = normalizer.transform(X_test['price'].values.reshape(1,-1))\n",
    "X_train_price_norm = X_train_price_norm.reshape(13558,1)\n",
    "X_test_price_norm = X_test_price_norm.reshape(3390,1)\n",
    "print(\"After vectorizations\")\n",
    "print(X_train_price_norm.shape, y_train.shape)\n",
    "print(X_test_price_norm.shape, y_test.shape)\n",
    "price_fea = ['price_norm']\n",
    "print(\"=\"*100)"
   ]
  },
  {
   "cell_type": "markdown",
   "metadata": {
    "colab_type": "text",
    "id": "yYHPYadYb3dh"
   },
   "source": [
    "<h2>1.5 Appling NB on different kind of featurization as mentioned in the instructions</h2>\n",
    "\n",
    "<br>Apply NB on different kind of featurization as mentioned in the instructions\n",
    "<br> For Every model that you work on make sure you do the step 2 and step 3 of instrucations"
   ]
  },
  {
   "cell_type": "code",
   "execution_count": 16,
   "metadata": {
    "colab": {},
    "colab_type": "code",
    "id": "DNwqilFxb3di"
   },
   "outputs": [
    {
     "name": "stdout",
     "output_type": "stream",
     "text": [
      "Final Data matrix for tfidf\n",
      "(13558, 11737) (13558,)\n",
      "(3390, 11737) (3390,)\n",
      "====================================================================================================\n",
      "Final Data matrix for BOW\n",
      "(13558, 11737) (13558,)\n",
      "(3390, 11737) (3390,)\n",
      "====================================================================================================\n"
     ]
    }
   ],
   "source": [
    "from scipy.sparse import hstack,vstack\n",
    "# Merging\n",
    "X_tr_tf = hstack((X_train_essay_tfidf,X_train_title_tfidf,X_train_summ_tfidf, X_train_state_ohe, X_train_teacher_ohe,X_train_ccat_ohe,X_train_cscat_ohe, X_train_grade_ohe, X_train_price_norm)).tocsr()\n",
    "X_te_tf = hstack((X_test_essay_tfidf,X_test_title_tfidf,X_test_summ_tfidf, X_test_state_ohe, X_test_teacher_ohe,X_test_ccat_ohe,X_test_cscat_ohe, X_test_grade_ohe, X_test_price_norm)).tocsr()\n",
    "\n",
    "print(\"Final Data matrix for tfidf\")\n",
    "print(X_tr_tf.shape, y_train.shape)\n",
    "print(X_te_tf.shape, y_test.shape)\n",
    "print(\"=\"*100)\n",
    "\n",
    "X_tr = hstack((X_train_essay_bow,X_train_title_bow,X_train_summ_bow, X_train_state_ohe, X_train_teacher_ohe,X_train_ccat_ohe,X_train_cscat_ohe, X_train_grade_ohe, X_train_price_norm)).tocsr()\n",
    "X_te = hstack((X_test_essay_bow,X_test_title_bow,X_test_summ_bow, X_test_state_ohe, X_test_teacher_ohe,X_test_ccat_ohe,X_test_cscat_ohe, X_test_grade_ohe, X_test_price_norm)).tocsr()\n",
    "\n",
    "print(\"Final Data matrix for BOW\")\n",
    "print(X_tr.shape, y_train.shape)\n",
    "print(X_te.shape, y_test.shape)\n",
    "print(\"=\"*100)"
   ]
  },
  {
   "cell_type": "markdown",
   "metadata": {},
   "source": [
    "### NB For BoW"
   ]
  },
  {
   "cell_type": "code",
   "execution_count": 17,
   "metadata": {},
   "outputs": [
    {
     "data": {
      "image/png": "[encoded data removed]",
      "text/plain": [
       "<Figure size 432x288 with 1 Axes>"
      ]
     },
     "metadata": {},
     "output_type": "display_data"
    }
   ],
   "source": [
    "from sklearn.naive_bayes import MultinomialNB\n",
    "\n",
    "# Hyperparameter tuning\n",
    "# https://scikit-learn.org/stable/modules/generated/sklearn.model_selection.GridSearchCV.html\n",
    "from sklearn.model_selection import GridSearchCV\n",
    "nb = MultinomialNB(class_prior = [0.5,0.5])\n",
    "parameters = {'alpha':[10**x for x in range(-4,5)]}\n",
    "clf = GridSearchCV(nb, parameters, cv=3, scoring='roc_auc', return_train_score=True)\n",
    "clf.fit(X_tr, y_train)\n",
    "\n",
    "results = pd.DataFrame.from_dict(clf.cv_results_)\n",
    "results = results.sort_values(['param_alpha'])\n",
    "\n",
    "train_auc= results['mean_train_score']\n",
    "train_auc_std= results['std_train_score']\n",
    "cv_auc = results['mean_test_score'] \n",
    "cv_auc_std= results['std_test_score']\n",
    "\n",
    "K =  results['param_alpha']\n",
    "\n",
    "plt.plot(K, train_auc, label='Train AUC')\n",
    "# this code is copied from here: https://stackoverflow.com/a/48803361/4084039\n",
    "# plt.gca().fill_between(K, train_auc - train_auc_std,train_auc + train_auc_std,alpha=0.2,color='darkblue')\n",
    "\n",
    "plt.plot(K, cv_auc, label='CV AUC')\n",
    "# this code is copied from here: https://stackoverflow.com/a/48803361/4084039\n",
    "# plt.gca().fill_between(K, cv_auc - cv_auc_std,cv_auc + cv_auc_std,alpha=0.2,color='darkorange')\n",
    "\n",
    "plt.scatter(K, train_auc, label='Train AUC points')\n",
    "plt.scatter(K, cv_auc, label='CV AUC points')\n",
    "\n",
    "\n",
    "plt.legend()\n",
    "plt.xlabel(\"Alpha: hyperparameter\")\n",
    "plt.ylabel(\"AUC\")\n",
    "plt.title(\"Hyper parameter Vs AUC plot\")\n",
    "plt.grid()\n",
    "plt.show()"
   ]
  },
  {
   "cell_type": "code",
   "execution_count": 18,
   "metadata": {},
   "outputs": [
    {
     "data": {
      "text/html": [
       "<div>\n",
       "<style scoped>\n",
       "    .dataframe tbody tr th:only-of-type {\n",
       "        vertical-align: middle;\n",
       "    }\n",
       "\n",
       "    .dataframe tbody tr th {\n",
       "        vertical-align: top;\n",
       "    }\n",
       "\n",
       "    .dataframe thead th {\n",
       "        text-align: right;\n",
       "    }\n",
       "</style>\n",
       "<table border=\"1\" class=\"dataframe\">\n",
       "  <thead>\n",
       "    <tr style=\"text-align: right;\">\n",
       "      <th></th>\n",
       "      <th>mean_fit_time</th>\n",
       "      <th>std_fit_time</th>\n",
       "      <th>mean_score_time</th>\n",
       "      <th>std_score_time</th>\n",
       "      <th>param_alpha</th>\n",
       "      <th>params</th>\n",
       "      <th>split0_test_score</th>\n",
       "      <th>split1_test_score</th>\n",
       "      <th>split2_test_score</th>\n",
       "      <th>mean_test_score</th>\n",
       "      <th>std_test_score</th>\n",
       "      <th>rank_test_score</th>\n",
       "      <th>split0_train_score</th>\n",
       "      <th>split1_train_score</th>\n",
       "      <th>split2_train_score</th>\n",
       "      <th>mean_train_score</th>\n",
       "      <th>std_train_score</th>\n",
       "    </tr>\n",
       "  </thead>\n",
       "  <tbody>\n",
       "    <tr>\n",
       "      <th>0</th>\n",
       "      <td>0.063989</td>\n",
       "      <td>0.005664</td>\n",
       "      <td>0.010677</td>\n",
       "      <td>0.001894</td>\n",
       "      <td>0.0001</td>\n",
       "      <td>{'alpha': 0.0001}</td>\n",
       "      <td>0.845346</td>\n",
       "      <td>0.850875</td>\n",
       "      <td>0.841533</td>\n",
       "      <td>0.845919</td>\n",
       "      <td>0.003835</td>\n",
       "      <td>1</td>\n",
       "      <td>0.918013</td>\n",
       "      <td>0.915212</td>\n",
       "      <td>0.911973</td>\n",
       "      <td>0.915066</td>\n",
       "      <td>0.002468</td>\n",
       "    </tr>\n",
       "    <tr>\n",
       "      <th>1</th>\n",
       "      <td>0.066662</td>\n",
       "      <td>0.001883</td>\n",
       "      <td>0.010650</td>\n",
       "      <td>0.001888</td>\n",
       "      <td>0.001</td>\n",
       "      <td>{'alpha': 0.001}</td>\n",
       "      <td>0.844825</td>\n",
       "      <td>0.849818</td>\n",
       "      <td>0.839769</td>\n",
       "      <td>0.844805</td>\n",
       "      <td>0.004102</td>\n",
       "      <td>2</td>\n",
       "      <td>0.915474</td>\n",
       "      <td>0.913001</td>\n",
       "      <td>0.909957</td>\n",
       "      <td>0.912811</td>\n",
       "      <td>0.002256</td>\n",
       "    </tr>\n",
       "    <tr>\n",
       "      <th>2</th>\n",
       "      <td>0.063988</td>\n",
       "      <td>0.000008</td>\n",
       "      <td>0.009325</td>\n",
       "      <td>0.001875</td>\n",
       "      <td>0.01</td>\n",
       "      <td>{'alpha': 0.01}</td>\n",
       "      <td>0.843229</td>\n",
       "      <td>0.847633</td>\n",
       "      <td>0.836582</td>\n",
       "      <td>0.842482</td>\n",
       "      <td>0.004542</td>\n",
       "      <td>3</td>\n",
       "      <td>0.911996</td>\n",
       "      <td>0.909782</td>\n",
       "      <td>0.907007</td>\n",
       "      <td>0.909595</td>\n",
       "      <td>0.002041</td>\n",
       "    </tr>\n",
       "    <tr>\n",
       "      <th>3</th>\n",
       "      <td>0.080326</td>\n",
       "      <td>0.019584</td>\n",
       "      <td>0.010650</td>\n",
       "      <td>0.001889</td>\n",
       "      <td>0.1</td>\n",
       "      <td>{'alpha': 0.1}</td>\n",
       "      <td>0.840047</td>\n",
       "      <td>0.843380</td>\n",
       "      <td>0.831107</td>\n",
       "      <td>0.838179</td>\n",
       "      <td>0.005181</td>\n",
       "      <td>4</td>\n",
       "      <td>0.907057</td>\n",
       "      <td>0.904940</td>\n",
       "      <td>0.902421</td>\n",
       "      <td>0.904806</td>\n",
       "      <td>0.001895</td>\n",
       "    </tr>\n",
       "    <tr>\n",
       "      <th>4</th>\n",
       "      <td>0.066648</td>\n",
       "      <td>0.001888</td>\n",
       "      <td>0.010663</td>\n",
       "      <td>0.001885</td>\n",
       "      <td>1</td>\n",
       "      <td>{'alpha': 1}</td>\n",
       "      <td>0.832581</td>\n",
       "      <td>0.834426</td>\n",
       "      <td>0.821462</td>\n",
       "      <td>0.829491</td>\n",
       "      <td>0.005725</td>\n",
       "      <td>5</td>\n",
       "      <td>0.897673</td>\n",
       "      <td>0.895525</td>\n",
       "      <td>0.892812</td>\n",
       "      <td>0.895337</td>\n",
       "      <td>0.001989</td>\n",
       "    </tr>\n",
       "    <tr>\n",
       "      <th>5</th>\n",
       "      <td>0.067995</td>\n",
       "      <td>0.005648</td>\n",
       "      <td>0.009322</td>\n",
       "      <td>0.001873</td>\n",
       "      <td>10</td>\n",
       "      <td>{'alpha': 10}</td>\n",
       "      <td>0.812835</td>\n",
       "      <td>0.812573</td>\n",
       "      <td>0.801204</td>\n",
       "      <td>0.808872</td>\n",
       "      <td>0.005422</td>\n",
       "      <td>6</td>\n",
       "      <td>0.874288</td>\n",
       "      <td>0.871218</td>\n",
       "      <td>0.868162</td>\n",
       "      <td>0.871223</td>\n",
       "      <td>0.002501</td>\n",
       "    </tr>\n",
       "    <tr>\n",
       "      <th>6</th>\n",
       "      <td>0.062661</td>\n",
       "      <td>0.001878</td>\n",
       "      <td>0.009330</td>\n",
       "      <td>0.001888</td>\n",
       "      <td>100</td>\n",
       "      <td>{'alpha': 100}</td>\n",
       "      <td>0.783007</td>\n",
       "      <td>0.779092</td>\n",
       "      <td>0.770804</td>\n",
       "      <td>0.777635</td>\n",
       "      <td>0.005087</td>\n",
       "      <td>7</td>\n",
       "      <td>0.832584</td>\n",
       "      <td>0.830717</td>\n",
       "      <td>0.827423</td>\n",
       "      <td>0.830241</td>\n",
       "      <td>0.002134</td>\n",
       "    </tr>\n",
       "    <tr>\n",
       "      <th>7</th>\n",
       "      <td>0.095973</td>\n",
       "      <td>0.028464</td>\n",
       "      <td>0.023993</td>\n",
       "      <td>0.009795</td>\n",
       "      <td>1000</td>\n",
       "      <td>{'alpha': 1000}</td>\n",
       "      <td>0.732166</td>\n",
       "      <td>0.716897</td>\n",
       "      <td>0.713668</td>\n",
       "      <td>0.720912</td>\n",
       "      <td>0.008068</td>\n",
       "      <td>8</td>\n",
       "      <td>0.757474</td>\n",
       "      <td>0.754690</td>\n",
       "      <td>0.752635</td>\n",
       "      <td>0.754933</td>\n",
       "      <td>0.001983</td>\n",
       "    </tr>\n",
       "    <tr>\n",
       "      <th>8</th>\n",
       "      <td>0.065316</td>\n",
       "      <td>0.001884</td>\n",
       "      <td>0.010676</td>\n",
       "      <td>0.001894</td>\n",
       "      <td>10000</td>\n",
       "      <td>{'alpha': 10000}</td>\n",
       "      <td>0.662735</td>\n",
       "      <td>0.640386</td>\n",
       "      <td>0.639236</td>\n",
       "      <td>0.647454</td>\n",
       "      <td>0.010817</td>\n",
       "      <td>9</td>\n",
       "      <td>0.666437</td>\n",
       "      <td>0.663790</td>\n",
       "      <td>0.664345</td>\n",
       "      <td>0.664857</td>\n",
       "      <td>0.001140</td>\n",
       "    </tr>\n",
       "  </tbody>\n",
       "</table>\n",
       "</div>"
      ],
      "text/plain": [
       "   mean_fit_time  std_fit_time  mean_score_time  std_score_time param_alpha  \\\n",
       "0       0.063989      0.005664         0.010677        0.001894      0.0001   \n",
       "1       0.066662      0.001883         0.010650        0.001888       0.001   \n",
       "2       0.063988      0.000008         0.009325        0.001875        0.01   \n",
       "3       0.080326      0.019584         0.010650        0.001889         0.1   \n",
       "4       0.066648      0.001888         0.010663        0.001885           1   \n",
       "5       0.067995      0.005648         0.009322        0.001873          10   \n",
       "6       0.062661      0.001878         0.009330        0.001888         100   \n",
       "7       0.095973      0.028464         0.023993        0.009795        1000   \n",
       "8       0.065316      0.001884         0.010676        0.001894       10000   \n",
       "\n",
       "              params  split0_test_score  split1_test_score  split2_test_score  \\\n",
       "0  {'alpha': 0.0001}           0.845346           0.850875           0.841533   \n",
       "1   {'alpha': 0.001}           0.844825           0.849818           0.839769   \n",
       "2    {'alpha': 0.01}           0.843229           0.847633           0.836582   \n",
       "3     {'alpha': 0.1}           0.840047           0.843380           0.831107   \n",
       "4       {'alpha': 1}           0.832581           0.834426           0.821462   \n",
       "5      {'alpha': 10}           0.812835           0.812573           0.801204   \n",
       "6     {'alpha': 100}           0.783007           0.779092           0.770804   \n",
       "7    {'alpha': 1000}           0.732166           0.716897           0.713668   \n",
       "8   {'alpha': 10000}           0.662735           0.640386           0.639236   \n",
       "\n",
       "   mean_test_score  std_test_score  rank_test_score  split0_train_score  \\\n",
       "0         0.845919        0.003835                1            0.918013   \n",
       "1         0.844805        0.004102                2            0.915474   \n",
       "2         0.842482        0.004542                3            0.911996   \n",
       "3         0.838179        0.005181                4            0.907057   \n",
       "4         0.829491        0.005725                5            0.897673   \n",
       "5         0.808872        0.005422                6            0.874288   \n",
       "6         0.777635        0.005087                7            0.832584   \n",
       "7         0.720912        0.008068                8            0.757474   \n",
       "8         0.647454        0.010817                9            0.666437   \n",
       "\n",
       "   split1_train_score  split2_train_score  mean_train_score  std_train_score  \n",
       "0            0.915212            0.911973          0.915066         0.002468  \n",
       "1            0.913001            0.909957          0.912811         0.002256  \n",
       "2            0.909782            0.907007          0.909595         0.002041  \n",
       "3            0.904940            0.902421          0.904806         0.001895  \n",
       "4            0.895525            0.892812          0.895337         0.001989  \n",
       "5            0.871218            0.868162          0.871223         0.002501  \n",
       "6            0.830717            0.827423          0.830241         0.002134  \n",
       "7            0.754690            0.752635          0.754933         0.001983  \n",
       "8            0.663790            0.664345          0.664857         0.001140  "
      ]
     },
     "execution_count": 18,
     "metadata": {},
     "output_type": "execute_result"
    }
   ],
   "source": [
    "results"
   ]
  },
  {
   "cell_type": "code",
   "execution_count": 19,
   "metadata": {},
   "outputs": [],
   "source": [
    "# from the error plot we choose K such that, we will have maximum AUC on cv data and gap between the train and cv is less\n",
    "# Note: based on the method you use you might get different hyperparameter values as best one\n",
    "# so, you choose according to the method you choose, you use gridsearch if you are having more computing power and note it will take more time\n",
    "# if you increase the cv values in the GridSearchCV you will get more rebust results.\n",
    "\n",
    "#here we are choosing the best_k based on forloop results\n",
    "best_alpha_bow = 10"
   ]
  },
  {
   "cell_type": "code",
   "execution_count": 20,
   "metadata": {},
   "outputs": [
    {
     "data": {
      "image/png": "[encoded data removed]",
      "text/plain": [
       "<Figure size 432x288 with 1 Axes>"
      ]
     },
     "metadata": {},
     "output_type": "display_data"
    }
   ],
   "source": [
    "# https://scikit-learn.org/stable/modules/generated/sklearn.metrics.roc_curve.html#sklearn.metrics.roc_curve\n",
    "from sklearn.metrics import roc_curve, auc\n",
    "\n",
    "\n",
    "nb = MultinomialNB(alpha=best_alpha_bow)\n",
    "nb.fit(X_tr, y_train)\n",
    "# roc_auc_score(y_true, y_score) the 2nd parameter should be probability estimates of the positive class\n",
    "# not the predicted outputs\n",
    "\n",
    "y_train_pred = nb.predict(X_tr)   \n",
    "y_test_pred = nb.predict(X_te)\n",
    "\n",
    "train_fpr, train_tpr, tr_thresholds = roc_curve(y_train, y_train_pred)\n",
    "test_fpr_bow, test_tpr_bow, te_thresholds = roc_curve(y_test, y_test_pred)\n",
    "\n",
    "plt.plot(train_fpr, train_tpr, label=\"train AUC =\"+str(auc(train_fpr, train_tpr)))\n",
    "plt.plot(test_fpr_bow, test_tpr_bow, label=\"test AUC =\"+str(auc(test_fpr_bow, test_tpr_bow)))\n",
    "plt.legend()\n",
    "plt.xlabel(\"False Positive Rate\")\n",
    "plt.ylabel(\"True Positive Rate\")\n",
    "plt.title(\"ROC Curve\")\n",
    "plt.grid()\n",
    "plt.show()"
   ]
  },
  {
   "cell_type": "code",
   "execution_count": 21,
   "metadata": {},
   "outputs": [
    {
     "name": "stdout",
     "output_type": "stream",
     "text": [
      "====================================================================================================\n",
      "Train confusion matrix\n",
      "[[5041 1738]\n",
      " [1266 5513]]\n",
      "Test confusion matrix\n",
      "[[1195  500]\n",
      " [ 365 1330]]\n"
     ]
    }
   ],
   "source": [
    "print(\"=\"*100)\n",
    "from sklearn.metrics import confusion_matrix\n",
    "print(\"Train confusion matrix\")\n",
    "print(confusion_matrix(y_train, y_train_pred))\n",
    "print(\"Test confusion matrix\")\n",
    "print(confusion_matrix(y_test, y_test_pred))"
   ]
  },
  {
   "cell_type": "code",
   "execution_count": 22,
   "metadata": {},
   "outputs": [
    {
     "name": "stdout",
     "output_type": "stream",
     "text": [
      "             precision    recall  f1-score   support\n",
      "\n",
      "          0       0.77      0.71      0.73      1695\n",
      "          1       0.73      0.78      0.75      1695\n",
      "\n",
      "avg / total       0.75      0.74      0.74      3390\n",
      "\n"
     ]
    }
   ],
   "source": [
    "from sklearn.metrics import classification_report\n",
    "print(classification_report(y_test,y_test_pred))"
   ]
  },
  {
   "cell_type": "markdown",
   "metadata": {},
   "source": [
    "### NB for TFiDF"
   ]
  },
  {
   "cell_type": "code",
   "execution_count": 23,
   "metadata": {},
   "outputs": [
    {
     "data": {
      "image/png": "[encoded data removed]",
      "text/plain": [
       "<Figure size 432x288 with 1 Axes>"
      ]
     },
     "metadata": {},
     "output_type": "display_data"
    }
   ],
   "source": [
    "\n",
    "# Hyperparameter tuning\n",
    "# https://scikit-learn.org/stable/modules/generated/sklearn.model_selection.GridSearchCV.html\n",
    "from sklearn.model_selection import GridSearchCV\n",
    "nb = MultinomialNB()\n",
    "parameters = {'alpha':[10**x for x in range(-4,5)]}\n",
    "clf = GridSearchCV(nb, parameters, cv=5, scoring='roc_auc', return_train_score=True)\n",
    "clf.fit(X_tr_tf, y_train)\n",
    "\n",
    "results = pd.DataFrame.from_dict(clf.cv_results_)\n",
    "results = results.sort_values(['param_alpha'])\n",
    "\n",
    "train_auc= results['mean_train_score']\n",
    "train_auc_std= results['std_train_score']\n",
    "cv_auc = results['mean_test_score'] \n",
    "cv_auc_std= results['std_test_score']\n",
    "\n",
    "K =  results['param_alpha']\n",
    "\n",
    "plt.plot(K, train_auc, label='Train AUC')\n",
    "# this code is copied from here: https://stackoverflow.com/a/48803361/4084039\n",
    "# plt.gca().fill_between(K, train_auc - train_auc_std,train_auc + train_auc_std,alpha=0.2,color='darkblue')\n",
    "\n",
    "plt.plot(K, cv_auc, label='CV AUC')\n",
    "# this code is copied from here: https://stackoverflow.com/a/48803361/4084039\n",
    "# plt.gca().fill_between(K, cv_auc - cv_auc_std,cv_auc + cv_auc_std,alpha=0.2,color='darkorange')\n",
    "\n",
    "plt.scatter(K, train_auc, label='Train AUC points')\n",
    "plt.scatter(K, cv_auc, label='CV AUC points')\n",
    "\n",
    "\n",
    "plt.legend()\n",
    "plt.xlabel(\"Alpha: hyperparameter\")\n",
    "plt.ylabel(\"AUC\")\n",
    "plt.title(\"Hyper parameter Vs AUC plot\")\n",
    "plt.grid()\n",
    "plt.show()"
   ]
  },
  {
   "cell_type": "code",
   "execution_count": 24,
   "metadata": {},
   "outputs": [
    {
     "data": {
      "text/html": [
       "<div>\n",
       "<style scoped>\n",
       "    .dataframe tbody tr th:only-of-type {\n",
       "        vertical-align: middle;\n",
       "    }\n",
       "\n",
       "    .dataframe tbody tr th {\n",
       "        vertical-align: top;\n",
       "    }\n",
       "\n",
       "    .dataframe thead th {\n",
       "        text-align: right;\n",
       "    }\n",
       "</style>\n",
       "<table border=\"1\" class=\"dataframe\">\n",
       "  <thead>\n",
       "    <tr style=\"text-align: right;\">\n",
       "      <th></th>\n",
       "      <th>mean_fit_time</th>\n",
       "      <th>std_fit_time</th>\n",
       "      <th>mean_score_time</th>\n",
       "      <th>std_score_time</th>\n",
       "      <th>param_alpha</th>\n",
       "      <th>params</th>\n",
       "      <th>split0_test_score</th>\n",
       "      <th>split1_test_score</th>\n",
       "      <th>split2_test_score</th>\n",
       "      <th>split3_test_score</th>\n",
       "      <th>...</th>\n",
       "      <th>mean_test_score</th>\n",
       "      <th>std_test_score</th>\n",
       "      <th>rank_test_score</th>\n",
       "      <th>split0_train_score</th>\n",
       "      <th>split1_train_score</th>\n",
       "      <th>split2_train_score</th>\n",
       "      <th>split3_train_score</th>\n",
       "      <th>split4_train_score</th>\n",
       "      <th>mean_train_score</th>\n",
       "      <th>std_train_score</th>\n",
       "    </tr>\n",
       "  </thead>\n",
       "  <tbody>\n",
       "    <tr>\n",
       "      <th>0</th>\n",
       "      <td>0.071985</td>\n",
       "      <td>0.005056</td>\n",
       "      <td>0.007194</td>\n",
       "      <td>0.001598</td>\n",
       "      <td>0.0001</td>\n",
       "      <td>{'alpha': 0.0001}</td>\n",
       "      <td>0.855910</td>\n",
       "      <td>0.849741</td>\n",
       "      <td>0.856423</td>\n",
       "      <td>0.857223</td>\n",
       "      <td>...</td>\n",
       "      <td>0.853360</td>\n",
       "      <td>0.003957</td>\n",
       "      <td>3</td>\n",
       "      <td>0.922579</td>\n",
       "      <td>0.924057</td>\n",
       "      <td>0.924441</td>\n",
       "      <td>0.921163</td>\n",
       "      <td>0.921646</td>\n",
       "      <td>0.922777</td>\n",
       "      <td>0.001291</td>\n",
       "    </tr>\n",
       "    <tr>\n",
       "      <th>1</th>\n",
       "      <td>0.071179</td>\n",
       "      <td>0.006878</td>\n",
       "      <td>0.007200</td>\n",
       "      <td>0.001598</td>\n",
       "      <td>0.001</td>\n",
       "      <td>{'alpha': 0.001}</td>\n",
       "      <td>0.856927</td>\n",
       "      <td>0.851516</td>\n",
       "      <td>0.857323</td>\n",
       "      <td>0.858575</td>\n",
       "      <td>...</td>\n",
       "      <td>0.854395</td>\n",
       "      <td>0.004160</td>\n",
       "      <td>2</td>\n",
       "      <td>0.921656</td>\n",
       "      <td>0.923196</td>\n",
       "      <td>0.923691</td>\n",
       "      <td>0.920288</td>\n",
       "      <td>0.920884</td>\n",
       "      <td>0.921943</td>\n",
       "      <td>0.001309</td>\n",
       "    </tr>\n",
       "    <tr>\n",
       "      <th>2</th>\n",
       "      <td>0.077137</td>\n",
       "      <td>0.005100</td>\n",
       "      <td>0.005598</td>\n",
       "      <td>0.003193</td>\n",
       "      <td>0.01</td>\n",
       "      <td>{'alpha': 0.01}</td>\n",
       "      <td>0.857388</td>\n",
       "      <td>0.853193</td>\n",
       "      <td>0.857486</td>\n",
       "      <td>0.859642</td>\n",
       "      <td>...</td>\n",
       "      <td>0.854873</td>\n",
       "      <td>0.004611</td>\n",
       "      <td>1</td>\n",
       "      <td>0.919849</td>\n",
       "      <td>0.921521</td>\n",
       "      <td>0.922170</td>\n",
       "      <td>0.918606</td>\n",
       "      <td>0.919338</td>\n",
       "      <td>0.920297</td>\n",
       "      <td>0.001341</td>\n",
       "    </tr>\n",
       "    <tr>\n",
       "      <th>3</th>\n",
       "      <td>0.075544</td>\n",
       "      <td>0.009574</td>\n",
       "      <td>0.008264</td>\n",
       "      <td>0.004873</td>\n",
       "      <td>0.1</td>\n",
       "      <td>{'alpha': 0.1}</td>\n",
       "      <td>0.855393</td>\n",
       "      <td>0.852525</td>\n",
       "      <td>0.855762</td>\n",
       "      <td>0.858463</td>\n",
       "      <td>...</td>\n",
       "      <td>0.852714</td>\n",
       "      <td>0.005951</td>\n",
       "      <td>4</td>\n",
       "      <td>0.915622</td>\n",
       "      <td>0.917471</td>\n",
       "      <td>0.918414</td>\n",
       "      <td>0.914671</td>\n",
       "      <td>0.915460</td>\n",
       "      <td>0.916328</td>\n",
       "      <td>0.001390</td>\n",
       "    </tr>\n",
       "    <tr>\n",
       "      <th>4</th>\n",
       "      <td>0.068784</td>\n",
       "      <td>0.001604</td>\n",
       "      <td>0.007994</td>\n",
       "      <td>0.000004</td>\n",
       "      <td>1</td>\n",
       "      <td>{'alpha': 1}</td>\n",
       "      <td>0.841428</td>\n",
       "      <td>0.841151</td>\n",
       "      <td>0.844708</td>\n",
       "      <td>0.846739</td>\n",
       "      <td>...</td>\n",
       "      <td>0.840382</td>\n",
       "      <td>0.006590</td>\n",
       "      <td>5</td>\n",
       "      <td>0.901234</td>\n",
       "      <td>0.903089</td>\n",
       "      <td>0.904516</td>\n",
       "      <td>0.900519</td>\n",
       "      <td>0.901132</td>\n",
       "      <td>0.902098</td>\n",
       "      <td>0.001483</td>\n",
       "    </tr>\n",
       "    <tr>\n",
       "      <th>5</th>\n",
       "      <td>0.068785</td>\n",
       "      <td>0.001608</td>\n",
       "      <td>0.007195</td>\n",
       "      <td>0.001595</td>\n",
       "      <td>10</td>\n",
       "      <td>{'alpha': 10}</td>\n",
       "      <td>0.790533</td>\n",
       "      <td>0.790254</td>\n",
       "      <td>0.797955</td>\n",
       "      <td>0.796998</td>\n",
       "      <td>...</td>\n",
       "      <td>0.791307</td>\n",
       "      <td>0.006147</td>\n",
       "      <td>6</td>\n",
       "      <td>0.846466</td>\n",
       "      <td>0.847144</td>\n",
       "      <td>0.847772</td>\n",
       "      <td>0.843978</td>\n",
       "      <td>0.845193</td>\n",
       "      <td>0.846111</td>\n",
       "      <td>0.001367</td>\n",
       "    </tr>\n",
       "    <tr>\n",
       "      <th>6</th>\n",
       "      <td>0.067181</td>\n",
       "      <td>0.002994</td>\n",
       "      <td>0.004798</td>\n",
       "      <td>0.001600</td>\n",
       "      <td>100</td>\n",
       "      <td>{'alpha': 100}</td>\n",
       "      <td>0.686661</td>\n",
       "      <td>0.683260</td>\n",
       "      <td>0.689895</td>\n",
       "      <td>0.688975</td>\n",
       "      <td>...</td>\n",
       "      <td>0.686792</td>\n",
       "      <td>0.002430</td>\n",
       "      <td>7</td>\n",
       "      <td>0.721087</td>\n",
       "      <td>0.722717</td>\n",
       "      <td>0.718270</td>\n",
       "      <td>0.715935</td>\n",
       "      <td>0.720518</td>\n",
       "      <td>0.719705</td>\n",
       "      <td>0.002363</td>\n",
       "    </tr>\n",
       "    <tr>\n",
       "      <th>7</th>\n",
       "      <td>0.072787</td>\n",
       "      <td>0.008540</td>\n",
       "      <td>0.007196</td>\n",
       "      <td>0.001599</td>\n",
       "      <td>1000</td>\n",
       "      <td>{'alpha': 1000}</td>\n",
       "      <td>0.607641</td>\n",
       "      <td>0.603762</td>\n",
       "      <td>0.602653</td>\n",
       "      <td>0.602685</td>\n",
       "      <td>...</td>\n",
       "      <td>0.604268</td>\n",
       "      <td>0.001836</td>\n",
       "      <td>8</td>\n",
       "      <td>0.619455</td>\n",
       "      <td>0.622515</td>\n",
       "      <td>0.617278</td>\n",
       "      <td>0.616958</td>\n",
       "      <td>0.618059</td>\n",
       "      <td>0.618853</td>\n",
       "      <td>0.002024</td>\n",
       "    </tr>\n",
       "    <tr>\n",
       "      <th>8</th>\n",
       "      <td>0.067993</td>\n",
       "      <td>0.000010</td>\n",
       "      <td>0.007987</td>\n",
       "      <td>0.000017</td>\n",
       "      <td>10000</td>\n",
       "      <td>{'alpha': 10000}</td>\n",
       "      <td>0.586101</td>\n",
       "      <td>0.581807</td>\n",
       "      <td>0.577586</td>\n",
       "      <td>0.578038</td>\n",
       "      <td>...</td>\n",
       "      <td>0.580594</td>\n",
       "      <td>0.003121</td>\n",
       "      <td>9</td>\n",
       "      <td>0.590573</td>\n",
       "      <td>0.592448</td>\n",
       "      <td>0.589317</td>\n",
       "      <td>0.589127</td>\n",
       "      <td>0.590313</td>\n",
       "      <td>0.590356</td>\n",
       "      <td>0.001185</td>\n",
       "    </tr>\n",
       "  </tbody>\n",
       "</table>\n",
       "<p>9 rows × 21 columns</p>\n",
       "</div>"
      ],
      "text/plain": [
       "   mean_fit_time  std_fit_time  mean_score_time  std_score_time param_alpha  \\\n",
       "0       0.071985      0.005056         0.007194        0.001598      0.0001   \n",
       "1       0.071179      0.006878         0.007200        0.001598       0.001   \n",
       "2       0.077137      0.005100         0.005598        0.003193        0.01   \n",
       "3       0.075544      0.009574         0.008264        0.004873         0.1   \n",
       "4       0.068784      0.001604         0.007994        0.000004           1   \n",
       "5       0.068785      0.001608         0.007195        0.001595          10   \n",
       "6       0.067181      0.002994         0.004798        0.001600         100   \n",
       "7       0.072787      0.008540         0.007196        0.001599        1000   \n",
       "8       0.067993      0.000010         0.007987        0.000017       10000   \n",
       "\n",
       "              params  split0_test_score  split1_test_score  split2_test_score  \\\n",
       "0  {'alpha': 0.0001}           0.855910           0.849741           0.856423   \n",
       "1   {'alpha': 0.001}           0.856927           0.851516           0.857323   \n",
       "2    {'alpha': 0.01}           0.857388           0.853193           0.857486   \n",
       "3     {'alpha': 0.1}           0.855393           0.852525           0.855762   \n",
       "4       {'alpha': 1}           0.841428           0.841151           0.844708   \n",
       "5      {'alpha': 10}           0.790533           0.790254           0.797955   \n",
       "6     {'alpha': 100}           0.686661           0.683260           0.689895   \n",
       "7    {'alpha': 1000}           0.607641           0.603762           0.602653   \n",
       "8   {'alpha': 10000}           0.586101           0.581807           0.577586   \n",
       "\n",
       "   split3_test_score       ...         mean_test_score  std_test_score  \\\n",
       "0           0.857223       ...                0.853360        0.003957   \n",
       "1           0.858575       ...                0.854395        0.004160   \n",
       "2           0.859642       ...                0.854873        0.004611   \n",
       "3           0.858463       ...                0.852714        0.005951   \n",
       "4           0.846739       ...                0.840382        0.006590   \n",
       "5           0.796998       ...                0.791307        0.006147   \n",
       "6           0.688975       ...                0.686792        0.002430   \n",
       "7           0.602685       ...                0.604268        0.001836   \n",
       "8           0.578038       ...                0.580594        0.003121   \n",
       "\n",
       "   rank_test_score  split0_train_score  split1_train_score  \\\n",
       "0                3            0.922579            0.924057   \n",
       "1                2            0.921656            0.923196   \n",
       "2                1            0.919849            0.921521   \n",
       "3                4            0.915622            0.917471   \n",
       "4                5            0.901234            0.903089   \n",
       "5                6            0.846466            0.847144   \n",
       "6                7            0.721087            0.722717   \n",
       "7                8            0.619455            0.622515   \n",
       "8                9            0.590573            0.592448   \n",
       "\n",
       "   split2_train_score  split3_train_score  split4_train_score  \\\n",
       "0            0.924441            0.921163            0.921646   \n",
       "1            0.923691            0.920288            0.920884   \n",
       "2            0.922170            0.918606            0.919338   \n",
       "3            0.918414            0.914671            0.915460   \n",
       "4            0.904516            0.900519            0.901132   \n",
       "5            0.847772            0.843978            0.845193   \n",
       "6            0.718270            0.715935            0.720518   \n",
       "7            0.617278            0.616958            0.618059   \n",
       "8            0.589317            0.589127            0.590313   \n",
       "\n",
       "   mean_train_score  std_train_score  \n",
       "0          0.922777         0.001291  \n",
       "1          0.921943         0.001309  \n",
       "2          0.920297         0.001341  \n",
       "3          0.916328         0.001390  \n",
       "4          0.902098         0.001483  \n",
       "5          0.846111         0.001367  \n",
       "6          0.719705         0.002363  \n",
       "7          0.618853         0.002024  \n",
       "8          0.590356         0.001185  \n",
       "\n",
       "[9 rows x 21 columns]"
      ]
     },
     "execution_count": 24,
     "metadata": {},
     "output_type": "execute_result"
    }
   ],
   "source": [
    "results"
   ]
  },
  {
   "cell_type": "code",
   "execution_count": 25,
   "metadata": {},
   "outputs": [],
   "source": [
    "# Note: based on the method you use you might get different hyperparameter values as best one\n",
    "# so, you choose according to the method you choose, you use gridsearch if you are having more computing power and note it will take more time\n",
    "# if you increase the cv values in the GridSearchCV you will get more rebust results.\n",
    "\n",
    "#here we are choosing the best_k based on forloop results\n",
    "best_alpha_tfidf = 100"
   ]
  },
  {
   "cell_type": "code",
   "execution_count": 26,
   "metadata": {},
   "outputs": [
    {
     "data": {
      "image/png": "[encoded data removed]",
      "text/plain": [
       "<Figure size 432x288 with 1 Axes>"
      ]
     },
     "metadata": {},
     "output_type": "display_data"
    }
   ],
   "source": [
    "# https://scikit-learn.org/stable/modules/generated/sklearn.metrics.roc_curve.html#sklearn.metrics.roc_curve\n",
    "nb = MultinomialNB(alpha=best_alpha_tfidf)\n",
    "nb.fit(X_tr_tf, y_train)\n",
    "# roc_auc_score(y_true, y_score) the 2nd parameter should be probability estimates of the positive class\n",
    "# not the predicted outputs\n",
    "\n",
    "y_train_pred = nb.predict(X_tr_tf)   \n",
    "y_test_pred = nb.predict(X_te_tf)\n",
    "\n",
    "train_fpr, train_tpr, tr_thresholds = roc_curve(y_train, y_train_pred)\n",
    "test_fpr_tfidf, test_tpr_tfidf, te_thresholds = roc_curve(y_test, y_test_pred)\n",
    "\n",
    "plt.plot(train_fpr, train_tpr, label=\"train AUC =\"+str(auc(train_fpr, train_tpr)))\n",
    "plt.plot(test_fpr_tfidf, test_tpr_tfidf, label=\"test AUC =\"+str(auc(test_fpr_tfidf, test_tpr_tfidf)))\n",
    "plt.legend()\n",
    "plt.xlabel(\"False Positive Rate\")\n",
    "plt.ylabel(\"True Positive Rate\")\n",
    "plt.title(\"ROC Curve\")\n",
    "plt.grid()\n",
    "plt.show()"
   ]
  },
  {
   "cell_type": "code",
   "execution_count": 27,
   "metadata": {},
   "outputs": [
    {
     "name": "stdout",
     "output_type": "stream",
     "text": [
      "====================================================================================================\n",
      "Train confusion matrix\n",
      "[[3752 3027]\n",
      " [1695 5084]]\n",
      "Test confusion matrix\n",
      "[[ 901  794]\n",
      " [ 448 1247]]\n"
     ]
    }
   ],
   "source": [
    "print(\"=\"*100)\n",
    "from sklearn.metrics import confusion_matrix\n",
    "print(\"Train confusion matrix\")\n",
    "print(confusion_matrix(y_train, y_train_pred))\n",
    "print(\"Test confusion matrix\")\n",
    "print(confusion_matrix(y_test, y_test_pred))"
   ]
  },
  {
   "cell_type": "code",
   "execution_count": 28,
   "metadata": {},
   "outputs": [
    {
     "name": "stdout",
     "output_type": "stream",
     "text": [
      "             precision    recall  f1-score   support\n",
      "\n",
      "          0       0.67      0.53      0.59      1695\n",
      "          1       0.61      0.74      0.67      1695\n",
      "\n",
      "avg / total       0.64      0.63      0.63      3390\n",
      "\n"
     ]
    }
   ],
   "source": [
    "print(classification_report(y_test,y_test_pred))"
   ]
  },
  {
   "cell_type": "markdown",
   "metadata": {},
   "source": [
    "### Top 20 Feature Selection"
   ]
  },
  {
   "cell_type": "code",
   "execution_count": 29,
   "metadata": {},
   "outputs": [
    {
     "name": "stdout",
     "output_type": "stream",
     "text": [
      "20 most imp features for positive class:\n",
      "\n",
      "['students', 'grades912', 'health_wellness', 'appliedlearning', 'the', 'specialneeds', 'specialneeds', 'and', 'health_sports', 'ca', 'to', 'grades68', 'literature_writing', 'mathematics', 'literacy', 'grades35', 'ms', 'math_science', 'gradesprek2', 'literacy_language']\n",
      "\n",
      "----------------------------------------------------------------------------------------------------\n"
     ]
    }
   ],
   "source": [
    "# https://datascience.stackexchange.com/questions/65219/find-the-top-n-features-from-feature-set-using-absolute-values-of-feature-log-p\n",
    "# For positive class\n",
    "feature_log_ind = np.argsort(nb.feature_log_prob_[1])\n",
    "feature_lst = list(tfidf_essay_fea+tfidf_title_fea+tfidf_summ_fea+school_features+teacher_fea+\n",
    "                   clean_cat_fea+clean_sub+project_grade_fea+price_fea)\n",
    "Most_imp_words_1 = []\n",
    "for index in feature_log_ind[-21:-1]:\n",
    "    Most_imp_words_1.append(feature_lst[index])\n",
    "print(\"20 most imp features for positive class:\\n\")\n",
    "print(Most_imp_words_1)\n",
    "\n",
    "print(\"\\n\" + \"-\"*100)"
   ]
  },
  {
   "cell_type": "code",
   "execution_count": 30,
   "metadata": {},
   "outputs": [
    {
     "name": "stdout",
     "output_type": "stream",
     "text": [
      "(13558, 20)\n",
      "(3390, 20)\n"
     ]
    }
   ],
   "source": [
    "indexes = []\n",
    "for i in Most_imp_words_1:\n",
    "    indexes.append(feature_lst.index(i))\n",
    "X_train_new = pd.DataFrame(X_tr_tf.todense())\n",
    "X_train_new = X_train_new.iloc[:,indexes]\n",
    "X_test_new = pd.DataFrame(X_te_tf.todense())\n",
    "X_test_new = X_test_new.iloc[:,indexes]\n",
    "print(X_train_new.shape)\n",
    "print(X_test_new.shape)"
   ]
  },
  {
   "cell_type": "code",
   "execution_count": 31,
   "metadata": {},
   "outputs": [
    {
     "data": {
      "image/png": "[encoded data removed]",
      "text/plain": [
       "<Figure size 432x288 with 1 Axes>"
      ]
     },
     "metadata": {},
     "output_type": "display_data"
    }
   ],
   "source": [
    "\n",
    "# Hyperparameter tuning\n",
    "# https://scikit-learn.org/stable/modules/generated/sklearn.model_selection.GridSearchCV.html\n",
    "nb = MultinomialNB()\n",
    "parameters = {'alpha':[10**x for x in range(-4,5)]}\n",
    "clf = GridSearchCV(nb, parameters, cv=3, scoring='roc_auc', return_train_score=True)\n",
    "clf.fit(X_train_new, y_train)\n",
    "\n",
    "results = pd.DataFrame.from_dict(clf.cv_results_)\n",
    "results = results.sort_values(['param_alpha'])\n",
    "\n",
    "train_auc= results['mean_train_score']\n",
    "train_auc_std= results['std_train_score']\n",
    "cv_auc = results['mean_test_score'] \n",
    "cv_auc_std= results['std_test_score']\n",
    "\n",
    "K =  results['param_alpha']\n",
    "\n",
    "plt.plot(K, train_auc, label='Train AUC')\n",
    "# this code is copied from here: https://stackoverflow.com/a/48803361/4084039\n",
    "# plt.gca().fill_between(K, train_auc - train_auc_std,train_auc + train_auc_std,alpha=0.2,color='darkblue')\n",
    "\n",
    "plt.plot(K, cv_auc, label='CV AUC')\n",
    "# this code is copied from here: https://stackoverflow.com/a/48803361/4084039\n",
    "# plt.gca().fill_between(K, cv_auc - cv_auc_std,cv_auc + cv_auc_std,alpha=0.2,color='darkorange')\n",
    "\n",
    "plt.scatter(K, train_auc, label='Train AUC points')\n",
    "plt.scatter(K, cv_auc, label='CV AUC points')\n",
    "\n",
    "\n",
    "plt.legend()\n",
    "plt.xlabel(\"Alpha: hyperparameter\")\n",
    "plt.ylabel(\"AUC\")\n",
    "plt.title(\"Hyper parameter Vs AUC plot\")\n",
    "plt.grid()\n",
    "plt.show()"
   ]
  },
  {
   "cell_type": "code",
   "execution_count": 32,
   "metadata": {},
   "outputs": [
    {
     "data": {
      "text/html": [
       "<div>\n",
       "<style scoped>\n",
       "    .dataframe tbody tr th:only-of-type {\n",
       "        vertical-align: middle;\n",
       "    }\n",
       "\n",
       "    .dataframe tbody tr th {\n",
       "        vertical-align: top;\n",
       "    }\n",
       "\n",
       "    .dataframe thead th {\n",
       "        text-align: right;\n",
       "    }\n",
       "</style>\n",
       "<table border=\"1\" class=\"dataframe\">\n",
       "  <thead>\n",
       "    <tr style=\"text-align: right;\">\n",
       "      <th></th>\n",
       "      <th>mean_fit_time</th>\n",
       "      <th>std_fit_time</th>\n",
       "      <th>mean_score_time</th>\n",
       "      <th>std_score_time</th>\n",
       "      <th>param_alpha</th>\n",
       "      <th>params</th>\n",
       "      <th>split0_test_score</th>\n",
       "      <th>split1_test_score</th>\n",
       "      <th>split2_test_score</th>\n",
       "      <th>mean_test_score</th>\n",
       "      <th>std_test_score</th>\n",
       "      <th>rank_test_score</th>\n",
       "      <th>split0_train_score</th>\n",
       "      <th>split1_train_score</th>\n",
       "      <th>split2_train_score</th>\n",
       "      <th>mean_train_score</th>\n",
       "      <th>std_train_score</th>\n",
       "    </tr>\n",
       "  </thead>\n",
       "  <tbody>\n",
       "    <tr>\n",
       "      <th>0</th>\n",
       "      <td>0.006668</td>\n",
       "      <td>3.772031e-03</td>\n",
       "      <td>0.005329</td>\n",
       "      <td>1.885257e-03</td>\n",
       "      <td>0.0001</td>\n",
       "      <td>{'alpha': 0.0001}</td>\n",
       "      <td>0.555077</td>\n",
       "      <td>0.540706</td>\n",
       "      <td>0.547852</td>\n",
       "      <td>0.547878</td>\n",
       "      <td>0.005868</td>\n",
       "      <td>3</td>\n",
       "      <td>0.546785</td>\n",
       "      <td>0.554351</td>\n",
       "      <td>0.550561</td>\n",
       "      <td>0.550565</td>\n",
       "      <td>0.003089</td>\n",
       "    </tr>\n",
       "    <tr>\n",
       "      <th>1</th>\n",
       "      <td>0.007996</td>\n",
       "      <td>6.257699e-07</td>\n",
       "      <td>0.004000</td>\n",
       "      <td>2.295101e-06</td>\n",
       "      <td>0.001</td>\n",
       "      <td>{'alpha': 0.001}</td>\n",
       "      <td>0.555077</td>\n",
       "      <td>0.540705</td>\n",
       "      <td>0.547852</td>\n",
       "      <td>0.547878</td>\n",
       "      <td>0.005868</td>\n",
       "      <td>4</td>\n",
       "      <td>0.546785</td>\n",
       "      <td>0.554351</td>\n",
       "      <td>0.550560</td>\n",
       "      <td>0.550565</td>\n",
       "      <td>0.003089</td>\n",
       "    </tr>\n",
       "    <tr>\n",
       "      <th>2</th>\n",
       "      <td>0.007999</td>\n",
       "      <td>5.840039e-07</td>\n",
       "      <td>0.002665</td>\n",
       "      <td>1.884751e-03</td>\n",
       "      <td>0.01</td>\n",
       "      <td>{'alpha': 0.01}</td>\n",
       "      <td>0.555078</td>\n",
       "      <td>0.540702</td>\n",
       "      <td>0.547852</td>\n",
       "      <td>0.547877</td>\n",
       "      <td>0.005869</td>\n",
       "      <td>5</td>\n",
       "      <td>0.546783</td>\n",
       "      <td>0.554350</td>\n",
       "      <td>0.550557</td>\n",
       "      <td>0.550563</td>\n",
       "      <td>0.003089</td>\n",
       "    </tr>\n",
       "    <tr>\n",
       "      <th>3</th>\n",
       "      <td>0.006664</td>\n",
       "      <td>1.886324e-03</td>\n",
       "      <td>0.001334</td>\n",
       "      <td>1.886268e-03</td>\n",
       "      <td>0.1</td>\n",
       "      <td>{'alpha': 0.1}</td>\n",
       "      <td>0.555078</td>\n",
       "      <td>0.540682</td>\n",
       "      <td>0.547836</td>\n",
       "      <td>0.547865</td>\n",
       "      <td>0.005878</td>\n",
       "      <td>6</td>\n",
       "      <td>0.546784</td>\n",
       "      <td>0.554329</td>\n",
       "      <td>0.550546</td>\n",
       "      <td>0.550553</td>\n",
       "      <td>0.003081</td>\n",
       "    </tr>\n",
       "    <tr>\n",
       "      <th>4</th>\n",
       "      <td>0.007997</td>\n",
       "      <td>1.251540e-06</td>\n",
       "      <td>0.002666</td>\n",
       "      <td>1.885426e-03</td>\n",
       "      <td>1</td>\n",
       "      <td>{'alpha': 1}</td>\n",
       "      <td>0.555139</td>\n",
       "      <td>0.540617</td>\n",
       "      <td>0.547744</td>\n",
       "      <td>0.547833</td>\n",
       "      <td>0.005929</td>\n",
       "      <td>7</td>\n",
       "      <td>0.546826</td>\n",
       "      <td>0.554286</td>\n",
       "      <td>0.550501</td>\n",
       "      <td>0.550538</td>\n",
       "      <td>0.003046</td>\n",
       "    </tr>\n",
       "    <tr>\n",
       "      <th>5</th>\n",
       "      <td>0.006663</td>\n",
       "      <td>1.884133e-03</td>\n",
       "      <td>0.004001</td>\n",
       "      <td>2.973602e-07</td>\n",
       "      <td>10</td>\n",
       "      <td>{'alpha': 10}</td>\n",
       "      <td>0.554996</td>\n",
       "      <td>0.540450</td>\n",
       "      <td>0.547307</td>\n",
       "      <td>0.547584</td>\n",
       "      <td>0.005942</td>\n",
       "      <td>8</td>\n",
       "      <td>0.546448</td>\n",
       "      <td>0.553595</td>\n",
       "      <td>0.550081</td>\n",
       "      <td>0.550041</td>\n",
       "      <td>0.002918</td>\n",
       "    </tr>\n",
       "    <tr>\n",
       "      <th>6</th>\n",
       "      <td>0.005334</td>\n",
       "      <td>1.883852e-03</td>\n",
       "      <td>0.002664</td>\n",
       "      <td>1.883571e-03</td>\n",
       "      <td>100</td>\n",
       "      <td>{'alpha': 100}</td>\n",
       "      <td>0.555013</td>\n",
       "      <td>0.539977</td>\n",
       "      <td>0.546446</td>\n",
       "      <td>0.547146</td>\n",
       "      <td>0.006159</td>\n",
       "      <td>9</td>\n",
       "      <td>0.545611</td>\n",
       "      <td>0.552662</td>\n",
       "      <td>0.549878</td>\n",
       "      <td>0.549384</td>\n",
       "      <td>0.002900</td>\n",
       "    </tr>\n",
       "    <tr>\n",
       "      <th>7</th>\n",
       "      <td>0.006666</td>\n",
       "      <td>1.883796e-03</td>\n",
       "      <td>0.003996</td>\n",
       "      <td>1.106929e-06</td>\n",
       "      <td>1000</td>\n",
       "      <td>{'alpha': 1000}</td>\n",
       "      <td>0.554637</td>\n",
       "      <td>0.544757</td>\n",
       "      <td>0.545719</td>\n",
       "      <td>0.548371</td>\n",
       "      <td>0.004448</td>\n",
       "      <td>2</td>\n",
       "      <td>0.547558</td>\n",
       "      <td>0.553607</td>\n",
       "      <td>0.551255</td>\n",
       "      <td>0.550807</td>\n",
       "      <td>0.002490</td>\n",
       "    </tr>\n",
       "    <tr>\n",
       "      <th>8</th>\n",
       "      <td>0.005333</td>\n",
       "      <td>1.883571e-03</td>\n",
       "      <td>0.002666</td>\n",
       "      <td>1.885032e-03</td>\n",
       "      <td>10000</td>\n",
       "      <td>{'alpha': 10000}</td>\n",
       "      <td>0.554739</td>\n",
       "      <td>0.546668</td>\n",
       "      <td>0.545876</td>\n",
       "      <td>0.549095</td>\n",
       "      <td>0.004005</td>\n",
       "      <td>1</td>\n",
       "      <td>0.547931</td>\n",
       "      <td>0.553465</td>\n",
       "      <td>0.551563</td>\n",
       "      <td>0.550986</td>\n",
       "      <td>0.002296</td>\n",
       "    </tr>\n",
       "  </tbody>\n",
       "</table>\n",
       "</div>"
      ],
      "text/plain": [
       "   mean_fit_time  std_fit_time  mean_score_time  std_score_time param_alpha  \\\n",
       "0       0.006668  3.772031e-03         0.005329    1.885257e-03      0.0001   \n",
       "1       0.007996  6.257699e-07         0.004000    2.295101e-06       0.001   \n",
       "2       0.007999  5.840039e-07         0.002665    1.884751e-03        0.01   \n",
       "3       0.006664  1.886324e-03         0.001334    1.886268e-03         0.1   \n",
       "4       0.007997  1.251540e-06         0.002666    1.885426e-03           1   \n",
       "5       0.006663  1.884133e-03         0.004001    2.973602e-07          10   \n",
       "6       0.005334  1.883852e-03         0.002664    1.883571e-03         100   \n",
       "7       0.006666  1.883796e-03         0.003996    1.106929e-06        1000   \n",
       "8       0.005333  1.883571e-03         0.002666    1.885032e-03       10000   \n",
       "\n",
       "              params  split0_test_score  split1_test_score  split2_test_score  \\\n",
       "0  {'alpha': 0.0001}           0.555077           0.540706           0.547852   \n",
       "1   {'alpha': 0.001}           0.555077           0.540705           0.547852   \n",
       "2    {'alpha': 0.01}           0.555078           0.540702           0.547852   \n",
       "3     {'alpha': 0.1}           0.555078           0.540682           0.547836   \n",
       "4       {'alpha': 1}           0.555139           0.540617           0.547744   \n",
       "5      {'alpha': 10}           0.554996           0.540450           0.547307   \n",
       "6     {'alpha': 100}           0.555013           0.539977           0.546446   \n",
       "7    {'alpha': 1000}           0.554637           0.544757           0.545719   \n",
       "8   {'alpha': 10000}           0.554739           0.546668           0.545876   \n",
       "\n",
       "   mean_test_score  std_test_score  rank_test_score  split0_train_score  \\\n",
       "0         0.547878        0.005868                3            0.546785   \n",
       "1         0.547878        0.005868                4            0.546785   \n",
       "2         0.547877        0.005869                5            0.546783   \n",
       "3         0.547865        0.005878                6            0.546784   \n",
       "4         0.547833        0.005929                7            0.546826   \n",
       "5         0.547584        0.005942                8            0.546448   \n",
       "6         0.547146        0.006159                9            0.545611   \n",
       "7         0.548371        0.004448                2            0.547558   \n",
       "8         0.549095        0.004005                1            0.547931   \n",
       "\n",
       "   split1_train_score  split2_train_score  mean_train_score  std_train_score  \n",
       "0            0.554351            0.550561          0.550565         0.003089  \n",
       "1            0.554351            0.550560          0.550565         0.003089  \n",
       "2            0.554350            0.550557          0.550563         0.003089  \n",
       "3            0.554329            0.550546          0.550553         0.003081  \n",
       "4            0.554286            0.550501          0.550538         0.003046  \n",
       "5            0.553595            0.550081          0.550041         0.002918  \n",
       "6            0.552662            0.549878          0.549384         0.002900  \n",
       "7            0.553607            0.551255          0.550807         0.002490  \n",
       "8            0.553465            0.551563          0.550986         0.002296  "
      ]
     },
     "execution_count": 32,
     "metadata": {},
     "output_type": "execute_result"
    }
   ],
   "source": [
    "results"
   ]
  },
  {
   "cell_type": "code",
   "execution_count": 33,
   "metadata": {},
   "outputs": [],
   "source": [
    "best_alpha_top20 = 0.001"
   ]
  },
  {
   "cell_type": "code",
   "execution_count": 34,
   "metadata": {},
   "outputs": [
    {
     "data": {
      "image/png": "[encoded data removed]",
      "text/plain": [
       "<Figure size 432x288 with 1 Axes>"
      ]
     },
     "metadata": {},
     "output_type": "display_data"
    }
   ],
   "source": [
    "# https://scikit-learn.org/stable/modules/generated/sklearn.metrics.roc_curve.html#sklearn.metrics.roc_curve\n",
    "nb = MultinomialNB(alpha=best_alpha_top20)\n",
    "nb.fit(X_train_new, y_train)\n",
    "# roc_auc_score(y_true, y_score) the 2nd parameter should be probability estimates of the positive class\n",
    "# not the predicted outputs\n",
    "\n",
    "y_train_pred = nb.predict(X_train_new)   \n",
    "y_test_pred = nb.predict(X_test_new)\n",
    "\n",
    "train_fpr, train_tpr, tr_thresholds = roc_curve(y_train, y_train_pred)\n",
    "test_fpr_tfidf, test_tpr_tfidf, te_thresholds = roc_curve(y_test, y_test_pred)\n",
    "\n",
    "plt.plot(train_fpr, train_tpr, label=\"train AUC =\"+str(auc(train_fpr, train_tpr)))\n",
    "plt.plot(test_fpr_tfidf, test_tpr_tfidf, label=\"test AUC =\"+str(auc(test_fpr_tfidf, test_tpr_tfidf)))\n",
    "plt.legend()\n",
    "plt.xlabel(\"False Positive Rate\")\n",
    "plt.ylabel(\"True Positive Rate\")\n",
    "plt.title(\"ROC Curve\")\n",
    "plt.grid()\n",
    "plt.show()"
   ]
  },
  {
   "cell_type": "code",
   "execution_count": 35,
   "metadata": {},
   "outputs": [
    {
     "name": "stdout",
     "output_type": "stream",
     "text": [
      "====================================================================================================\n",
      "Train confusion matrix\n",
      "[[2823 3956]\n",
      " [2368 4411]]\n",
      "Test confusion matrix\n",
      "[[ 728  967]\n",
      " [ 577 1118]]\n"
     ]
    }
   ],
   "source": [
    "print(\"=\"*100)\n",
    "from sklearn.metrics import confusion_matrix\n",
    "print(\"Train confusion matrix\")\n",
    "print(confusion_matrix(y_train, y_train_pred))\n",
    "print(\"Test confusion matrix\")\n",
    "print(confusion_matrix(y_test, y_test_pred))"
   ]
  },
  {
   "cell_type": "markdown",
   "metadata": {
    "colab_type": "text",
    "id": "lS9hIHdib3dp"
   },
   "source": [
    "<h1>3. Summary</h1>\n",
    "\n",
    "<br> as mentioned in the step 5 of instructions"
   ]
  },
  {
   "cell_type": "code",
   "execution_count": 36,
   "metadata": {},
   "outputs": [
    {
     "name": "stdout",
     "output_type": "stream",
     "text": [
      "+------------+---------------+-----------------+------+\n",
      "| Vectorizer |     Model     | Hyper parameter | AUC  |\n",
      "+------------+---------------+-----------------+------+\n",
      "|    BOW     | MultinomialNB |        10       | 0.75 |\n",
      "|   Tfidf    | MultinomialNB |       100       | 0.64 |\n",
      "|   Top_20   | MultinomialNB |      0.001      | 0.53 |\n",
      "+------------+---------------+-----------------+------+\n"
     ]
    }
   ],
   "source": [
    "# Please compare all your models using Prettytable library\n",
    "# http://zetcode.com/python/prettytable/\n",
    "\n",
    "from prettytable import PrettyTable\n",
    "    \n",
    "x = PrettyTable()\n",
    "\n",
    "x.field_names = [\"Vectorizer\", \"Model\", \"Hyper parameter\", \"AUC\"]\n",
    "\n",
    "x.add_row([\"BOW\", \"MultinomialNB\", best_alpha_bow, 0.75])\n",
    "x.add_row([\"Tfidf\", \"MultinomialNB\", best_alpha_tfidf, 0.64])\n",
    "x.add_row([\"Top_20\", \"MultinomialNB\", best_alpha_top20, 0.53])\n",
    "print(x)"
   ]
  },
  {
   "cell_type": "markdown",
   "metadata": {},
   "source": [
    "<b> Note:</b> We need to consider more features rather than top 20 because its auc score is very low (0.52)."
   ]
  }
 ],
 "metadata": {
  "colab": {
   "collapsed_sections": [],
   "name": "6_Assignment_NB_Instructions.ipynb",
   "provenance": [],
   "version": "0.3.2"
  },
  "kernelspec": {
   "display_name": "Python 3",
   "language": "python",
   "name": "python3"
  },
  "language_info": {
   "codemirror_mode": {
    "name": "ipython",
    "version": 3
   },
   "file_extension": ".py",
   "mimetype": "text/x-python",
   "name": "python",
   "nbconvert_exporter": "python",
   "pygments_lexer": "ipython3",
   "version": "3.6.5"
  }
 },
 "nbformat": 4,
 "nbformat_minor": 1
}
